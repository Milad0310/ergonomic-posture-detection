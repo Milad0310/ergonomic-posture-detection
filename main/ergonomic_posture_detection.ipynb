{
  "cells": [
    {
      "cell_type": "code",
      "source": [
        "from google.colab import drive\n",
        "drive.mount('/content/drive')"
      ],
      "metadata": {
        "colab": {
          "base_uri": "https://localhost:8080/"
        },
        "id": "y9SLe33WrWvg",
        "outputId": "d9c99ce5-c724-4f62-f9fe-94201ba370f1"
      },
      "execution_count": 1,
      "outputs": [
        {
          "output_type": "stream",
          "name": "stdout",
          "text": [
            "Drive already mounted at /content/drive; to attempt to forcibly remount, call drive.mount(\"/content/drive\", force_remount=True).\n"
          ]
        }
      ]
    },
    {
      "cell_type": "code",
      "source": [
        "file_name = 'https://drive.google.com/file/d/1s3x8sABy2JfEoSHE-VsJeziuktFSPpon/view?usp=drive_link'"
      ],
      "metadata": {
        "id": "E4yI3FcBKvb4"
      },
      "execution_count": 2,
      "outputs": []
    },
    {
      "cell_type": "code",
      "execution_count": 3,
      "metadata": {
        "colab": {
          "base_uri": "https://localhost:8080/"
        },
        "collapsed": true,
        "id": "wUg_QFtsFzyL",
        "outputId": "c115484d-7018-4242-b249-283b506b712c"
      },
      "outputs": [
        {
          "output_type": "stream",
          "name": "stdout",
          "text": [
            "Requirement already satisfied: super-gradients in /usr/local/lib/python3.10/dist-packages (3.7.1)\n",
            "Requirement already satisfied: torch>=1.9.0 in /usr/local/lib/python3.10/dist-packages (from super-gradients) (2.3.0+cpu)\n",
            "Requirement already satisfied: tqdm>=4.57.0 in /usr/local/lib/python3.10/dist-packages (from super-gradients) (4.66.4)\n",
            "Requirement already satisfied: boto3>=1.17.15 in /usr/local/lib/python3.10/dist-packages (from super-gradients) (1.34.114)\n",
            "Requirement already satisfied: jsonschema>=3.2.0 in /usr/local/lib/python3.10/dist-packages (from super-gradients) (4.22.0)\n",
            "Requirement already satisfied: Deprecated>=1.2.11 in /usr/local/lib/python3.10/dist-packages (from super-gradients) (1.2.14)\n",
            "Requirement already satisfied: scipy>=1.6.1 in /usr/local/lib/python3.10/dist-packages (from super-gradients) (1.11.4)\n",
            "Requirement already satisfied: matplotlib>=3.3.4 in /usr/local/lib/python3.10/dist-packages (from super-gradients) (3.7.1)\n",
            "Requirement already satisfied: psutil>=5.8.0 in /usr/local/lib/python3.10/dist-packages (from super-gradients) (5.9.5)\n",
            "Requirement already satisfied: tensorboard>=2.4.1 in /usr/local/lib/python3.10/dist-packages (from super-gradients) (2.15.2)\n",
            "Requirement already satisfied: setuptools>=65.5.1 in /usr/local/lib/python3.10/dist-packages (from super-gradients) (67.7.2)\n",
            "Requirement already satisfied: coverage~=5.3.1 in /usr/local/lib/python3.10/dist-packages (from super-gradients) (5.3.1)\n",
            "Requirement already satisfied: torchvision>=0.10.0 in /usr/local/lib/python3.10/dist-packages (from super-gradients) (0.18.0+cpu)\n",
            "Requirement already satisfied: sphinx~=4.0.2 in /usr/local/lib/python3.10/dist-packages (from super-gradients) (4.0.3)\n",
            "Requirement already satisfied: sphinx-rtd-theme in /usr/local/lib/python3.10/dist-packages (from super-gradients) (1.3.0)\n",
            "Requirement already satisfied: torchmetrics==0.8 in /usr/local/lib/python3.10/dist-packages (from super-gradients) (0.8.0)\n",
            "Requirement already satisfied: hydra-core>=1.2.0 in /usr/local/lib/python3.10/dist-packages (from super-gradients) (1.3.2)\n",
            "Requirement already satisfied: omegaconf in /usr/local/lib/python3.10/dist-packages (from super-gradients) (2.3.0)\n",
            "Requirement already satisfied: onnxruntime==1.15.0 in /usr/local/lib/python3.10/dist-packages (from super-gradients) (1.15.0)\n",
            "Requirement already satisfied: onnx==1.15.0 in /usr/local/lib/python3.10/dist-packages (from super-gradients) (1.15.0)\n",
            "Requirement already satisfied: pillow>=10.2.0 in /usr/local/lib/python3.10/dist-packages (from super-gradients) (10.3.0)\n",
            "Requirement already satisfied: pip-tools>=6.12.1 in /usr/local/lib/python3.10/dist-packages (from super-gradients) (6.13.0)\n",
            "Requirement already satisfied: einops==0.3.2 in /usr/local/lib/python3.10/dist-packages (from super-gradients) (0.3.2)\n",
            "Requirement already satisfied: protobuf==3.20.3 in /usr/local/lib/python3.10/dist-packages (from super-gradients) (3.20.3)\n",
            "Requirement already satisfied: treelib==1.6.1 in /usr/local/lib/python3.10/dist-packages (from super-gradients) (1.6.1)\n",
            "Requirement already satisfied: termcolor==1.1.0 in /usr/local/lib/python3.10/dist-packages (from super-gradients) (1.1.0)\n",
            "Requirement already satisfied: packaging>=20.4 in /usr/local/lib/python3.10/dist-packages (from super-gradients) (24.0)\n",
            "Requirement already satisfied: wheel>=0.38.0 in /usr/local/lib/python3.10/dist-packages (from super-gradients) (0.43.0)\n",
            "Requirement already satisfied: pygments>=2.7.4 in /usr/local/lib/python3.10/dist-packages (from super-gradients) (2.18.0)\n",
            "Requirement already satisfied: stringcase>=1.2.0 in /usr/local/lib/python3.10/dist-packages (from super-gradients) (1.2.0)\n",
            "Requirement already satisfied: numpy<=1.23 in /usr/local/lib/python3.10/dist-packages (from super-gradients) (1.23.0)\n",
            "Requirement already satisfied: rapidfuzz in /usr/local/lib/python3.10/dist-packages (from super-gradients) (3.9.1)\n",
            "Requirement already satisfied: json-tricks==3.16.1 in /usr/local/lib/python3.10/dist-packages (from super-gradients) (3.16.1)\n",
            "Requirement already satisfied: onnxsim<1.0,>=0.4.3 in /usr/local/lib/python3.10/dist-packages (from super-gradients) (0.4.36)\n",
            "Requirement already satisfied: data-gradients~=0.3.1 in /usr/local/lib/python3.10/dist-packages (from super-gradients) (0.3.2)\n",
            "Requirement already satisfied: albumentations~=1.3 in /usr/local/lib/python3.10/dist-packages (from super-gradients) (1.3.1)\n",
            "Requirement already satisfied: fonttools>=4.43.0 in /usr/local/lib/python3.10/dist-packages (from super-gradients) (4.51.0)\n",
            "Requirement already satisfied: werkzeug>=2.3.8 in /usr/local/lib/python3.10/dist-packages (from super-gradients) (3.0.3)\n",
            "Requirement already satisfied: coloredlogs in /usr/local/lib/python3.10/dist-packages (from onnxruntime==1.15.0->super-gradients) (15.0.1)\n",
            "Requirement already satisfied: flatbuffers in /usr/local/lib/python3.10/dist-packages (from onnxruntime==1.15.0->super-gradients) (24.3.25)\n",
            "Requirement already satisfied: sympy in /usr/local/lib/python3.10/dist-packages (from onnxruntime==1.15.0->super-gradients) (1.12)\n",
            "Requirement already satisfied: pyDeprecate==0.3.* in /usr/local/lib/python3.10/dist-packages (from torchmetrics==0.8->super-gradients) (0.3.2)\n",
            "Requirement already satisfied: future in /usr/local/lib/python3.10/dist-packages (from treelib==1.6.1->super-gradients) (1.0.0)\n",
            "Requirement already satisfied: scikit-image>=0.16.1 in /usr/local/lib/python3.10/dist-packages (from albumentations~=1.3->super-gradients) (0.19.3)\n",
            "Requirement already satisfied: PyYAML in /usr/local/lib/python3.10/dist-packages (from albumentations~=1.3->super-gradients) (6.0.1)\n",
            "Requirement already satisfied: qudida>=0.0.4 in /usr/local/lib/python3.10/dist-packages (from albumentations~=1.3->super-gradients) (0.0.4)\n",
            "Requirement already satisfied: opencv-python-headless>=4.1.1 in /usr/local/lib/python3.10/dist-packages (from albumentations~=1.3->super-gradients) (4.9.0.80)\n",
            "Requirement already satisfied: botocore<1.35.0,>=1.34.114 in /usr/local/lib/python3.10/dist-packages (from boto3>=1.17.15->super-gradients) (1.34.114)\n",
            "Requirement already satisfied: jmespath<2.0.0,>=0.7.1 in /usr/local/lib/python3.10/dist-packages (from boto3>=1.17.15->super-gradients) (1.0.1)\n",
            "Requirement already satisfied: s3transfer<0.11.0,>=0.10.0 in /usr/local/lib/python3.10/dist-packages (from boto3>=1.17.15->super-gradients) (0.10.1)\n",
            "Requirement already satisfied: platformdirs>=2.5.2 in /usr/local/lib/python3.10/dist-packages (from data-gradients~=0.3.1->super-gradients) (4.2.2)\n",
            "Requirement already satisfied: opencv-python in /usr/local/lib/python3.10/dist-packages (from data-gradients~=0.3.1->super-gradients) (4.9.0.80)\n",
            "Requirement already satisfied: seaborn in /usr/local/lib/python3.10/dist-packages (from data-gradients~=0.3.1->super-gradients) (0.13.1)\n",
            "Requirement already satisfied: xhtml2pdf==0.2.11 in /usr/local/lib/python3.10/dist-packages (from data-gradients~=0.3.1->super-gradients) (0.2.11)\n",
            "Requirement already satisfied: jinja2 in /usr/local/lib/python3.10/dist-packages (from data-gradients~=0.3.1->super-gradients) (3.1.4)\n",
            "Requirement already satisfied: imagededup in /usr/local/lib/python3.10/dist-packages (from data-gradients~=0.3.1->super-gradients) (0.3.2)\n",
            "Requirement already satisfied: arabic-reshaper>=3.0.0 in /usr/local/lib/python3.10/dist-packages (from xhtml2pdf==0.2.11->data-gradients~=0.3.1->super-gradients) (3.0.0)\n",
            "Requirement already satisfied: html5lib>=1.0.1 in /usr/local/lib/python3.10/dist-packages (from xhtml2pdf==0.2.11->data-gradients~=0.3.1->super-gradients) (1.1)\n",
            "Requirement already satisfied: pyHanko>=0.12.1 in /usr/local/lib/python3.10/dist-packages (from xhtml2pdf==0.2.11->data-gradients~=0.3.1->super-gradients) (0.25.0)\n",
            "Requirement already satisfied: pyhanko-certvalidator>=0.19.5 in /usr/local/lib/python3.10/dist-packages (from xhtml2pdf==0.2.11->data-gradients~=0.3.1->super-gradients) (0.26.3)\n",
            "Requirement already satisfied: pypdf>=3.1.0 in /usr/local/lib/python3.10/dist-packages (from xhtml2pdf==0.2.11->data-gradients~=0.3.1->super-gradients) (4.2.0)\n",
            "Requirement already satisfied: python-bidi>=0.4.2 in /usr/local/lib/python3.10/dist-packages (from xhtml2pdf==0.2.11->data-gradients~=0.3.1->super-gradients) (0.4.2)\n",
            "Requirement already satisfied: reportlab<4,>=3.5.53 in /usr/local/lib/python3.10/dist-packages (from xhtml2pdf==0.2.11->data-gradients~=0.3.1->super-gradients) (3.6.13)\n",
            "Requirement already satisfied: svglib>=1.2.1 in /usr/local/lib/python3.10/dist-packages (from xhtml2pdf==0.2.11->data-gradients~=0.3.1->super-gradients) (1.5.1)\n",
            "Requirement already satisfied: wrapt<2,>=1.10 in /usr/local/lib/python3.10/dist-packages (from Deprecated>=1.2.11->super-gradients) (1.14.1)\n",
            "Requirement already satisfied: antlr4-python3-runtime==4.9.* in /usr/local/lib/python3.10/dist-packages (from hydra-core>=1.2.0->super-gradients) (4.9.3)\n",
            "Requirement already satisfied: attrs>=22.2.0 in /usr/local/lib/python3.10/dist-packages (from jsonschema>=3.2.0->super-gradients) (23.2.0)\n",
            "Requirement already satisfied: jsonschema-specifications>=2023.03.6 in /usr/local/lib/python3.10/dist-packages (from jsonschema>=3.2.0->super-gradients) (2023.12.1)\n",
            "Requirement already satisfied: referencing>=0.28.4 in /usr/local/lib/python3.10/dist-packages (from jsonschema>=3.2.0->super-gradients) (0.35.1)\n",
            "Requirement already satisfied: rpds-py>=0.7.1 in /usr/local/lib/python3.10/dist-packages (from jsonschema>=3.2.0->super-gradients) (0.18.1)\n",
            "Requirement already satisfied: contourpy>=1.0.1 in /usr/local/lib/python3.10/dist-packages (from matplotlib>=3.3.4->super-gradients) (1.2.1)\n",
            "Requirement already satisfied: cycler>=0.10 in /usr/local/lib/python3.10/dist-packages (from matplotlib>=3.3.4->super-gradients) (0.12.1)\n",
            "Requirement already satisfied: kiwisolver>=1.0.1 in /usr/local/lib/python3.10/dist-packages (from matplotlib>=3.3.4->super-gradients) (1.4.5)\n",
            "Requirement already satisfied: pyparsing>=2.3.1 in /usr/local/lib/python3.10/dist-packages (from matplotlib>=3.3.4->super-gradients) (3.1.2)\n",
            "Requirement already satisfied: python-dateutil>=2.7 in /usr/local/lib/python3.10/dist-packages (from matplotlib>=3.3.4->super-gradients) (2.9.0.post0)\n",
            "Requirement already satisfied: rich in /usr/local/lib/python3.10/dist-packages (from onnxsim<1.0,>=0.4.3->super-gradients) (13.7.1)\n",
            "Requirement already satisfied: build in /usr/local/lib/python3.10/dist-packages (from pip-tools>=6.12.1->super-gradients) (1.2.1)\n",
            "Requirement already satisfied: click>=8 in /usr/local/lib/python3.10/dist-packages (from pip-tools>=6.12.1->super-gradients) (8.1.7)\n",
            "Requirement already satisfied: pip>=22.2 in /usr/local/lib/python3.10/dist-packages (from pip-tools>=6.12.1->super-gradients) (23.1.2)\n",
            "Requirement already satisfied: sphinxcontrib-applehelp in /usr/local/lib/python3.10/dist-packages (from sphinx~=4.0.2->super-gradients) (1.0.8)\n",
            "Requirement already satisfied: sphinxcontrib-devhelp in /usr/local/lib/python3.10/dist-packages (from sphinx~=4.0.2->super-gradients) (1.0.6)\n",
            "Requirement already satisfied: sphinxcontrib-jsmath in /usr/local/lib/python3.10/dist-packages (from sphinx~=4.0.2->super-gradients) (1.0.1)\n",
            "Requirement already satisfied: sphinxcontrib-htmlhelp in /usr/local/lib/python3.10/dist-packages (from sphinx~=4.0.2->super-gradients) (2.0.5)\n",
            "Requirement already satisfied: sphinxcontrib-serializinghtml in /usr/local/lib/python3.10/dist-packages (from sphinx~=4.0.2->super-gradients) (1.1.10)\n",
            "Requirement already satisfied: sphinxcontrib-qthelp in /usr/local/lib/python3.10/dist-packages (from sphinx~=4.0.2->super-gradients) (1.0.7)\n",
            "Requirement already satisfied: docutils<0.18,>=0.14 in /usr/local/lib/python3.10/dist-packages (from sphinx~=4.0.2->super-gradients) (0.17.1)\n",
            "Requirement already satisfied: snowballstemmer>=1.1 in /usr/local/lib/python3.10/dist-packages (from sphinx~=4.0.2->super-gradients) (2.2.0)\n",
            "Requirement already satisfied: babel>=1.3 in /usr/local/lib/python3.10/dist-packages (from sphinx~=4.0.2->super-gradients) (2.15.0)\n",
            "Requirement already satisfied: alabaster<0.8,>=0.7 in /usr/local/lib/python3.10/dist-packages (from sphinx~=4.0.2->super-gradients) (0.7.16)\n",
            "Requirement already satisfied: imagesize in /usr/local/lib/python3.10/dist-packages (from sphinx~=4.0.2->super-gradients) (1.4.1)\n",
            "Requirement already satisfied: requests>=2.5.0 in /usr/local/lib/python3.10/dist-packages (from sphinx~=4.0.2->super-gradients) (2.31.0)\n",
            "Requirement already satisfied: absl-py>=0.4 in /usr/local/lib/python3.10/dist-packages (from tensorboard>=2.4.1->super-gradients) (1.4.0)\n",
            "Requirement already satisfied: grpcio>=1.48.2 in /usr/local/lib/python3.10/dist-packages (from tensorboard>=2.4.1->super-gradients) (1.64.0)\n",
            "Requirement already satisfied: google-auth<3,>=1.6.3 in /usr/local/lib/python3.10/dist-packages (from tensorboard>=2.4.1->super-gradients) (2.27.0)\n",
            "Requirement already satisfied: google-auth-oauthlib<2,>=0.5 in /usr/local/lib/python3.10/dist-packages (from tensorboard>=2.4.1->super-gradients) (1.2.0)\n",
            "Requirement already satisfied: markdown>=2.6.8 in /usr/local/lib/python3.10/dist-packages (from tensorboard>=2.4.1->super-gradients) (3.6)\n",
            "Requirement already satisfied: six>1.9 in /usr/local/lib/python3.10/dist-packages (from tensorboard>=2.4.1->super-gradients) (1.16.0)\n",
            "Requirement already satisfied: tensorboard-data-server<0.8.0,>=0.7.0 in /usr/local/lib/python3.10/dist-packages (from tensorboard>=2.4.1->super-gradients) (0.7.2)\n",
            "Requirement already satisfied: filelock in /usr/local/lib/python3.10/dist-packages (from torch>=1.9.0->super-gradients) (3.14.0)\n",
            "Requirement already satisfied: typing-extensions>=4.8.0 in /usr/local/lib/python3.10/dist-packages (from torch>=1.9.0->super-gradients) (4.11.0)\n",
            "Requirement already satisfied: networkx in /usr/local/lib/python3.10/dist-packages (from torch>=1.9.0->super-gradients) (3.3)\n",
            "Requirement already satisfied: fsspec in /usr/local/lib/python3.10/dist-packages (from torch>=1.9.0->super-gradients) (2024.5.0)\n",
            "Requirement already satisfied: MarkupSafe>=2.1.1 in /usr/local/lib/python3.10/dist-packages (from werkzeug>=2.3.8->super-gradients) (2.1.5)\n",
            "Requirement already satisfied: sphinxcontrib-jquery<5,>=4 in /usr/local/lib/python3.10/dist-packages (from sphinx-rtd-theme->super-gradients) (4.1)\n",
            "Requirement already satisfied: urllib3!=2.2.0,<3,>=1.25.4 in /usr/local/lib/python3.10/dist-packages (from botocore<1.35.0,>=1.34.114->boto3>=1.17.15->super-gradients) (2.0.7)\n",
            "Requirement already satisfied: cachetools<6.0,>=2.0.0 in /usr/local/lib/python3.10/dist-packages (from google-auth<3,>=1.6.3->tensorboard>=2.4.1->super-gradients) (5.3.3)\n",
            "Requirement already satisfied: pyasn1-modules>=0.2.1 in /usr/local/lib/python3.10/dist-packages (from google-auth<3,>=1.6.3->tensorboard>=2.4.1->super-gradients) (0.4.0)\n",
            "Requirement already satisfied: rsa<5,>=3.1.4 in /usr/local/lib/python3.10/dist-packages (from google-auth<3,>=1.6.3->tensorboard>=2.4.1->super-gradients) (4.9)\n",
            "Requirement already satisfied: requests-oauthlib>=0.7.0 in /usr/local/lib/python3.10/dist-packages (from google-auth-oauthlib<2,>=0.5->tensorboard>=2.4.1->super-gradients) (2.0.0)\n",
            "Requirement already satisfied: scikit-learn>=0.19.1 in /usr/local/lib/python3.10/dist-packages (from qudida>=0.0.4->albumentations~=1.3->super-gradients) (1.2.2)\n",
            "Requirement already satisfied: charset-normalizer<4,>=2 in /usr/local/lib/python3.10/dist-packages (from requests>=2.5.0->sphinx~=4.0.2->super-gradients) (3.3.2)\n",
            "Requirement already satisfied: idna<4,>=2.5 in /usr/local/lib/python3.10/dist-packages (from requests>=2.5.0->sphinx~=4.0.2->super-gradients) (3.7)\n",
            "Requirement already satisfied: certifi>=2017.4.17 in /usr/local/lib/python3.10/dist-packages (from requests>=2.5.0->sphinx~=4.0.2->super-gradients) (2024.2.2)\n",
            "Requirement already satisfied: imageio>=2.4.1 in /usr/local/lib/python3.10/dist-packages (from scikit-image>=0.16.1->albumentations~=1.3->super-gradients) (2.34.1)\n",
            "Requirement already satisfied: tifffile>=2019.7.26 in /usr/local/lib/python3.10/dist-packages (from scikit-image>=0.16.1->albumentations~=1.3->super-gradients) (2024.5.22)\n",
            "Requirement already satisfied: PyWavelets>=1.1.1 in /usr/local/lib/python3.10/dist-packages (from scikit-image>=0.16.1->albumentations~=1.3->super-gradients) (1.6.0)\n",
            "Requirement already satisfied: pyproject_hooks in /usr/local/lib/python3.10/dist-packages (from build->pip-tools>=6.12.1->super-gradients) (1.1.0)\n",
            "Requirement already satisfied: tomli>=1.1.0 in /usr/local/lib/python3.10/dist-packages (from build->pip-tools>=6.12.1->super-gradients) (2.0.1)\n",
            "Requirement already satisfied: humanfriendly>=9.1 in /usr/local/lib/python3.10/dist-packages (from coloredlogs->onnxruntime==1.15.0->super-gradients) (10.0)\n",
            "Requirement already satisfied: markdown-it-py>=2.2.0 in /usr/local/lib/python3.10/dist-packages (from rich->onnxsim<1.0,>=0.4.3->super-gradients) (3.0.0)\n",
            "Requirement already satisfied: pandas>=1.2 in /usr/local/lib/python3.10/dist-packages (from seaborn->data-gradients~=0.3.1->super-gradients) (2.0.3)\n",
            "Requirement already satisfied: mpmath>=0.19 in /usr/local/lib/python3.10/dist-packages (from sympy->onnxruntime==1.15.0->super-gradients) (1.3.0)\n",
            "Requirement already satisfied: webencodings in /usr/local/lib/python3.10/dist-packages (from html5lib>=1.0.1->xhtml2pdf==0.2.11->data-gradients~=0.3.1->super-gradients) (0.5.1)\n",
            "Requirement already satisfied: mdurl~=0.1 in /usr/local/lib/python3.10/dist-packages (from markdown-it-py>=2.2.0->rich->onnxsim<1.0,>=0.4.3->super-gradients) (0.1.2)\n",
            "Requirement already satisfied: pytz>=2020.1 in /usr/local/lib/python3.10/dist-packages (from pandas>=1.2->seaborn->data-gradients~=0.3.1->super-gradients) (2024.1)\n",
            "Requirement already satisfied: tzdata>=2022.1 in /usr/local/lib/python3.10/dist-packages (from pandas>=1.2->seaborn->data-gradients~=0.3.1->super-gradients) (2024.1)\n",
            "Requirement already satisfied: pyasn1<0.7.0,>=0.4.6 in /usr/local/lib/python3.10/dist-packages (from pyasn1-modules>=0.2.1->google-auth<3,>=1.6.3->tensorboard>=2.4.1->super-gradients) (0.6.0)\n",
            "Requirement already satisfied: asn1crypto>=1.5.1 in /usr/local/lib/python3.10/dist-packages (from pyHanko>=0.12.1->xhtml2pdf==0.2.11->data-gradients~=0.3.1->super-gradients) (1.5.1)\n",
            "Requirement already satisfied: qrcode>=7.3.1 in /usr/local/lib/python3.10/dist-packages (from pyHanko>=0.12.1->xhtml2pdf==0.2.11->data-gradients~=0.3.1->super-gradients) (7.4.2)\n",
            "Requirement already satisfied: tzlocal>=4.3 in /usr/local/lib/python3.10/dist-packages (from pyHanko>=0.12.1->xhtml2pdf==0.2.11->data-gradients~=0.3.1->super-gradients) (5.2)\n",
            "Requirement already satisfied: cryptography>=42.0.1 in /usr/local/lib/python3.10/dist-packages (from pyHanko>=0.12.1->xhtml2pdf==0.2.11->data-gradients~=0.3.1->super-gradients) (42.0.7)\n",
            "Requirement already satisfied: oscrypto>=1.1.0 in /usr/local/lib/python3.10/dist-packages (from pyhanko-certvalidator>=0.19.5->xhtml2pdf==0.2.11->data-gradients~=0.3.1->super-gradients) (1.3.0)\n",
            "Requirement already satisfied: uritools>=3.0.1 in /usr/local/lib/python3.10/dist-packages (from pyhanko-certvalidator>=0.19.5->xhtml2pdf==0.2.11->data-gradients~=0.3.1->super-gradients) (4.0.3)\n",
            "Requirement already satisfied: oauthlib>=3.0.0 in /usr/local/lib/python3.10/dist-packages (from requests-oauthlib>=0.7.0->google-auth-oauthlib<2,>=0.5->tensorboard>=2.4.1->super-gradients) (3.2.2)\n",
            "Requirement already satisfied: joblib>=1.1.1 in /usr/local/lib/python3.10/dist-packages (from scikit-learn>=0.19.1->qudida>=0.0.4->albumentations~=1.3->super-gradients) (1.4.2)\n",
            "Requirement already satisfied: threadpoolctl>=2.0.0 in /usr/local/lib/python3.10/dist-packages (from scikit-learn>=0.19.1->qudida>=0.0.4->albumentations~=1.3->super-gradients) (3.5.0)\n",
            "Requirement already satisfied: lxml in /usr/local/lib/python3.10/dist-packages (from svglib>=1.2.1->xhtml2pdf==0.2.11->data-gradients~=0.3.1->super-gradients) (5.2.2)\n",
            "Requirement already satisfied: tinycss2>=0.6.0 in /usr/local/lib/python3.10/dist-packages (from svglib>=1.2.1->xhtml2pdf==0.2.11->data-gradients~=0.3.1->super-gradients) (1.3.0)\n",
            "Requirement already satisfied: cssselect2>=0.2.0 in /usr/local/lib/python3.10/dist-packages (from svglib>=1.2.1->xhtml2pdf==0.2.11->data-gradients~=0.3.1->super-gradients) (0.7.0)\n",
            "Requirement already satisfied: cffi>=1.12 in /usr/local/lib/python3.10/dist-packages (from cryptography>=42.0.1->pyHanko>=0.12.1->xhtml2pdf==0.2.11->data-gradients~=0.3.1->super-gradients) (1.16.0)\n",
            "Requirement already satisfied: pypng in /usr/local/lib/python3.10/dist-packages (from qrcode>=7.3.1->pyHanko>=0.12.1->xhtml2pdf==0.2.11->data-gradients~=0.3.1->super-gradients) (0.20220715.0)\n",
            "Requirement already satisfied: pycparser in /usr/local/lib/python3.10/dist-packages (from cffi>=1.12->cryptography>=42.0.1->pyHanko>=0.12.1->xhtml2pdf==0.2.11->data-gradients~=0.3.1->super-gradients) (2.22)\n"
          ]
        }
      ],
      "source": [
        "!pip install super-gradients"
      ]
    },
    {
      "cell_type": "code",
      "execution_count": 4,
      "metadata": {
        "collapsed": true,
        "id": "bggWgYanVWvO",
        "colab": {
          "base_uri": "https://localhost:8080/"
        },
        "outputId": "15f6ee47-e324-43ba-89f1-4c71c0adbb5f"
      },
      "outputs": [
        {
          "output_type": "stream",
          "name": "stderr",
          "text": [
            "[2024-05-29 07:15:46] INFO - crash_tips_setup.py - Crash tips is enabled. You can set your environment variable to CRASH_HANDLER=FALSE to disable it\n"
          ]
        },
        {
          "output_type": "stream",
          "name": "stdout",
          "text": [
            "The console stream is logged into /root/sg_logs/console.log\n",
            "[WARNING]No module named 'pycocotools'\n"
          ]
        },
        {
          "output_type": "stream",
          "name": "stderr",
          "text": [
            "[2024-05-29 07:15:53] WARNING - checkpoint_utils.py - :warning: The pre-trained models provided by SuperGradients may have their own licenses or terms and conditions derived from the dataset used for pre-training.\n",
            " It is your responsibility to determine whether you have permission to use the models for your use case.\n",
            " The model you have requested was pre-trained on the coco_pose dataset, published under the following terms: https://cocodataset.org/#termsofuse\n",
            "[2024-05-29 07:15:53] INFO - checkpoint_utils.py - License Notification: YOLO-NAS-POSE pre-trained weights are subjected to the specific license terms and conditions detailed in \n",
            "https://github.com/Deci-AI/super-gradients/blob/master/LICENSE.YOLONAS-POSE.md\n",
            "By downloading the pre-trained weight files you agree to comply with these terms.\n",
            "[2024-05-29 07:15:54] INFO - checkpoint_utils.py - Successfully loaded pretrained weights for architecture yolo_nas_pose_l\n"
          ]
        }
      ],
      "source": [
        "import super_gradients\n",
        "yolo_nas = super_gradients.training.models.get(\"yolo_nas_pose_l\", pretrained_weights=\"coco_pose\")"
      ]
    },
    {
      "cell_type": "code",
      "execution_count": 5,
      "metadata": {
        "id": "45c4ca55"
      },
      "outputs": [],
      "source": [
        "import cv2\n",
        "import time\n",
        "import math as m"
      ]
    },
    {
      "cell_type": "code",
      "execution_count": 6,
      "metadata": {
        "id": "4492e989"
      },
      "outputs": [],
      "source": [
        "# Calculate angle with vector approach\n",
        "def findAngle(x1, y1, x2, y2):\n",
        "    #since y3 is valid for all y, let's take y3=0 for simplicity.\n",
        "    theta = m.acos((y2 -y1)*(-y1) / (m.sqrt((x2 - x1)**2 + (y2 - y1)**2) * y1))\n",
        "    degree = int(180/m.pi)*theta\n",
        "    return degree"
      ]
    },
    {
      "cell_type": "code",
      "execution_count": 7,
      "metadata": {
        "id": "cb810117"
      },
      "outputs": [],
      "source": [
        "# Initilize frame counters.\n",
        "good_frames = 0\n",
        "bad_frames = 0\n",
        "\n",
        "# Font type.\n",
        "font = cv2.FONT_HERSHEY_SIMPLEX\n",
        "\n",
        "# Colors.\n",
        "blue = (255, 127, 0)\n",
        "red = (50, 50, 255)\n",
        "green = (127, 255, 0)\n",
        "dark_blue = (127, 20, 0)\n",
        "light_green = (127, 233, 100)\n",
        "yellow = (0, 255, 255)\n",
        "pink = (255, 0, 255)"
      ]
    },
    {
      "cell_type": "code",
      "execution_count": 8,
      "metadata": {
        "id": "cb0eb7cb"
      },
      "outputs": [],
      "source": [
        "# Initialize video capture object.\n",
        "file_name = '/content/chair_u.mp4'\n",
        "cap = cv2.VideoCapture(file_name)\n",
        "\n",
        "# Meta.\n",
        "fps = int(cap.get(cv2.CAP_PROP_FPS))\n",
        "width = int(cap.get(cv2.CAP_PROP_FRAME_WIDTH))\n",
        "height = int(cap.get(cv2.CAP_PROP_FRAME_HEIGHT))\n",
        "frame_size = (width, height)\n",
        "fourcc = cv2.VideoWriter_fourcc(*'mp4v')\n",
        "\n",
        "# Initialize video writer.\n",
        "video_output = cv2.VideoWriter('output.mp4', fourcc, fps, frame_size)"
      ]
    },
    {
      "cell_type": "code",
      "execution_count": 9,
      "metadata": {
        "id": "P88k1wcVF4ZV"
      },
      "outputs": [],
      "source": [
        "import math\n",
        "\n",
        "def calculate_angle(x1, y1, x2, y2, x3, y3):\n",
        "\n",
        "  # Calculate the vector lengths for each arm segment\n",
        "  upper_arm_length = math.sqrt((x2 - x1)**2 + (y2 - y1)**2)\n",
        "  lower_arm_length = math.sqrt((x3 - x2)**2 + (y3 - y2)**2)\n",
        "\n",
        "  # Ensure we don't have division by zero (shoulders and elbow can't coincide)\n",
        "  if upper_arm_length == 0:\n",
        "    return 0\n",
        "\n",
        "  # Calculate the dot product of the normalized arm segment vectors\n",
        "  dot_product = ((x2 - x1) / upper_arm_length) * ((x3 - x2) / lower_arm_length) + \\\n",
        "                ((y2 - y1) / upper_arm_length) * ((y3 - y2) / lower_arm_length)\n",
        "\n",
        "  # Apply the law of cosines to find the angle\n",
        "  angle_rad = math.acos(dot_product)\n",
        "\n",
        "  # Convert from radians to degrees\n",
        "  angle_deg = int(180 / math.pi) * angle_rad\n",
        "\n",
        "  return angle_deg\n"
      ]
    },
    {
      "cell_type": "code",
      "execution_count": 10,
      "metadata": {
        "id": "dcfa56b1"
      },
      "outputs": [],
      "source": [
        "print('Processing..')\n",
        "while cap.isOpened():\n",
        "    # Capture frames.\n",
        "    success, image = cap.read()\n",
        "    if not success:\n",
        "        print(\"Null.Frames\")\n",
        "        break\n",
        "    # Get fps.\n",
        "    fps = cap.get(cv2.CAP_PROP_FPS)\n",
        "    # Get height and width.\n",
        "    h, w = image.shape[:2]\n",
        "\n",
        "    # Convert the BGR image to RGB.\n",
        "    image = cv2.cvtColor(image, cv2.COLOR_BGR2RGB)\n",
        "\n",
        "    # Process the image.\n",
        "    predictions = yolo_nas.predict(image, conf=0.5)\n",
        "\n",
        "    # Convert the image back to BGR.\n",
        "    image = cv2.cvtColor(image, cv2.COLOR_RGB2BGR)\n",
        "\n",
        "    # Acquire the landmark coordinates.\n",
        "    # Once aligned properly, left or right should not be a concern.\n",
        "    # Left shoulder.\n",
        "    poses = predictions.prediction.poses  # Assuming 'prediction' has a nested 'prediction' attribute\n",
        "\n",
        "  # Loop through each pose\n",
        "    for pose in poses:\n",
        "    # Access individual keypoints within the pose\n",
        "      for i, keypoint in enumerate(pose):\n",
        "\n",
        "        if i == 4:\n",
        "          r_ear_x = int(keypoint[0])  # Assuming x is the first element\n",
        "          r_ear_y = int(keypoint[1])  # Assuming y is the second element\n",
        "\n",
        "        elif i == 6:\n",
        "          r_shldr_x = int(keypoint[0])  # Assuming x is the first element\n",
        "          r_shldr_y = int(keypoint[1])  # Assuming y is the second element\n",
        "\n",
        "        elif i == 8:\n",
        "          r_elbow_x = int(keypoint[0])  # Assuming x is the first element\n",
        "          r_elbow_y = int(keypoint[1])  # Assuming y is the second element\n",
        "\n",
        "        elif i == 10:\n",
        "          r_wrist_x = int(keypoint[0])  # Assuming x is the first element\n",
        "          r_wrist_y = int(keypoint[1])  # Assuming y is the second element\n",
        "\n",
        "        elif i == 12:\n",
        "          r_hip_x = int(keypoint[0])  # Assuming x is the first element\n",
        "          r_hip_y = int(keypoint[1])  # Assuming y is the second element\n",
        "\n",
        "        elif i == 14:\n",
        "          r_knee_x = int(keypoint[0])  # Assuming x is the first element\n",
        "          r_knee_y = int(keypoint[1])  # Assuming y is the second element\n",
        "\n",
        "        elif i == 16:\n",
        "          r_ancle_x = int(keypoint[0])  # Assuming x is the first element\n",
        "          r_ancle_y = int(keypoint[1])  # Assuming y is the second element\n",
        "\n",
        "\n",
        "    # Calculate angles.\n",
        "    neck_inclination = findAngle(r_shldr_x, r_shldr_y, r_ear_x, r_ear_y)\n",
        "    torso_inclination = findAngle(r_hip_x, r_hip_y, r_shldr_x, r_shldr_y)\n",
        "\n",
        "    knee_inclination = calculate_angle(r_hip_x, r_hip_y, r_knee_x, r_knee_y, r_ancle_x, r_ancle_y)\n",
        "    arm_inclination = calculate_angle(r_shldr_x, r_shldr_y, r_elbow_x, r_elbow_y, r_wrist_x, r_wrist_y)\n",
        "\n",
        "    angle_text_string = 'Neck : ' + str(int(neck_inclination)) + ' Torso : ' + str(int(torso_inclination))\n",
        "\n",
        "    # Draw landmarks.\n",
        "    cv2.circle(image, (r_shldr_x, r_shldr_y), 7, yellow, -1)\n",
        "    cv2.circle(image, (r_ear_x, r_ear_y), 7, yellow, -1)\n",
        "\n",
        "    cv2.circle(image, (r_shldr_x, r_shldr_y - 100), 7, yellow, -1)\n",
        "    cv2.circle(image, (r_shldr_x, r_shldr_y), 7, pink, -1)\n",
        "\n",
        "    cv2.circle(image, (r_hip_x, r_hip_y), 7, yellow, -1)\n",
        "    cv2.circle(image, (r_hip_x, r_hip_y - 100), 7, yellow, -1)\n",
        "\n",
        "    cv2.circle(image, (r_elbow_x, r_elbow_y), 7, yellow, -1)\n",
        "    cv2.circle(image, (r_knee_x, r_knee_y), 7, yellow, -1)\n",
        "\n",
        "\n",
        "    cv2.circle(image, (r_ancle_x, r_ancle_y), 7, yellow, -1)\n",
        "    cv2.circle(image, (r_wrist_x, r_wrist_y), 7, yellow, -1)\n",
        "\n",
        "\n",
        "    if neck_inclination < 40 and torso_inclination < 10 :\n",
        "\n",
        "        cv2.putText(image, angle_text_string, (10, 30), font, 0.9, light_green, 2)\n",
        "\n",
        "\n",
        "        # Join landmarks.\n",
        "        cv2.line(image, (r_shldr_x, r_shldr_y), (r_ear_x, r_ear_y), green, 4)\n",
        "        cv2.line(image, (r_shldr_x, r_shldr_y), (r_shldr_x, r_shldr_y - 100), green, 4)\n",
        "\n",
        "        cv2.line(image, (r_hip_x, r_hip_y), (r_shldr_x, r_shldr_y), green, 4)\n",
        "        cv2.line(image, (r_hip_x, r_hip_y), (r_hip_x, r_hip_y - 100), green, 4)\n",
        "\n",
        "    elif 90 < knee_inclination < 100:\n",
        "\n",
        "        cv2.putText(image, str(knee_inclination), (r_knee_x + 5 , r_knee_y + 5), font, 0.9, light_green, 2)\n",
        "\n",
        "        cv2.line(image, (r_knee_x, r_knee_y), (r_ancle_x, r_ancle_y), green, 4)\n",
        "        cv2.line(image, (r_hip_x, r_hip_y), (r_knee_x, r_knee_y), green, 4)\n",
        "\n",
        "    elif 90 < arm_inclination < 100:\n",
        "\n",
        "        cv2.putText(image, str(arm_inclination), (r_knee_x + 5 , r_knee_y + 5), font, 0.9, light_green, 2)\n",
        "\n",
        "        cv2.line(image,  (r_elbow_x, r_elbow_y), (r_wrist_x, r_wrist_y), green, 4)\n",
        "        cv2.line(image,  (r_shldr_x, r_shldr_y), (r_elbow_x, r_elbow_y), green, 4)\n",
        "\n",
        "    else:\n",
        "\n",
        "        cv2.putText(image, angle_text_string, (10, 30), font, 0.9, red, 2)\n",
        "        cv2.putText(image, str(knee_inclination), (r_knee_x + 5 , r_knee_y + 5), font, 0.9, red, 2)\n",
        "        cv2.putText(image, str(arm_inclination), (r_knee_x + 5 , r_knee_y + 5), font, 0.9, red, 2)\n",
        "\n",
        "\n",
        "        # Join landmarks.\n",
        "        cv2.line(image, (r_shldr_x, r_shldr_y), (r_ear_x, r_ear_y), red, 4)\n",
        "        cv2.line(image, (r_shldr_x, r_shldr_y), (r_shldr_x, r_shldr_y - 100), red, 4)\n",
        "\n",
        "        cv2.line(image, (r_hip_x, r_hip_y), (r_shldr_x, r_shldr_y), red, 4)\n",
        "        cv2.line(image, (r_hip_x, r_hip_y), (r_hip_x, r_hip_y - 100), red, 4)\n",
        "\n",
        "        cv2.line(image, (r_knee_x, r_knee_y), (r_ancle_x, r_ancle_y), red, 4)\n",
        "        cv2.line(image, (r_hip_x, r_hip_y), (r_knee_x, r_knee_y), red, 4)\n",
        "\n",
        "        cv2.line(image,  (r_elbow_x, r_elbow_y), (r_wrist_x, r_wrist_y), red, 4)\n",
        "        cv2.line(image,  (r_shldr_x, r_shldr_y), (r_elbow_x, r_elbow_y), red, 4)\n",
        "\n",
        "\n",
        "    video_output.write(image)\n",
        "\n",
        "cap.release()\n",
        "video_output.release()"
      ]
    }
  ],
  "metadata": {
    "accelerator": "TPU",
    "colab": {
      "gpuType": "V28",
      "provenance": []
    },
    "kernelspec": {
      "display_name": "Python 3",
      "name": "python3"
    },
    "language_info": {
      "name": "python"
    }
  },
  "nbformat": 4,
  "nbformat_minor": 0
}