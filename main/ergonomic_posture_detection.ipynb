{
  "cells": [
    {
      "cell_type": "code",
      "execution_count": null,
      "metadata": {
        "colab": {
          "base_uri": "https://localhost:8080/",
          "height": 1000
        },
        "collapsed": true,
        "id": "wUg_QFtsFzyL",
        "outputId": "4ca71495-2a79-4f63-a8cf-febf01aefea6"
      },
      "outputs": [],
      "source": [
        "!pip install super-gradients"
      ]
    },
    {
      "cell_type": "code",
      "execution_count": null,
      "metadata": {
        "colab": {
          "base_uri": "https://localhost:8080/"
        },
        "id": "bggWgYanVWvO",
        "outputId": "d208de66-4730-432f-d7f4-def3cdcc4363"
      },
      "outputs": [],
      "source": [
        "import super_gradients\n",
        "yolo_nas = super_gradients.training.models.get(\"yolo_nas_pose_l\", pretrained_weights=\"coco_pose\")"
      ]
    },
    {
      "cell_type": "code",
      "execution_count": null,
      "metadata": {
        "id": "45c4ca55"
      },
      "outputs": [],
      "source": [
        "import cv2\n",
        "import time\n",
        "import math as m"
      ]
    },
    {
      "cell_type": "code",
      "execution_count": null,
      "metadata": {
        "id": "4492e989"
      },
      "outputs": [],
      "source": [
        "# Calculate angle with vector approach\n",
        "def findAngle(x1, y1, x2, y2):\n",
        "    #since y3 is valid for all y, let's take y3=0 for simplicity.\n",
        "    theta = m.acos((y2 -y1)*(-y1) / (m.sqrt((x2 - x1)**2 + (y2 - y1)**2) * y1))\n",
        "    degree = int(180/m.pi)*theta\n",
        "    return degree"
      ]
    },
    {
      "cell_type": "code",
      "execution_count": null,
      "metadata": {
        "id": "cb810117"
      },
      "outputs": [],
      "source": [
        "# Initilize frame counters.\n",
        "good_frames = 0\n",
        "bad_frames = 0\n",
        "\n",
        "# Font type.\n",
        "font = cv2.FONT_HERSHEY_SIMPLEX\n",
        "\n",
        "# Colors.\n",
        "blue = (255, 127, 0)\n",
        "red = (50, 50, 255)\n",
        "green = (127, 255, 0)\n",
        "dark_blue = (127, 20, 0)\n",
        "light_green = (127, 233, 100)\n",
        "yellow = (0, 255, 255)\n",
        "pink = (255, 0, 255)"
      ]
    },
    {
      "cell_type": "code",
      "execution_count": null,
      "metadata": {
        "id": "Te8ZTrtvI99N"
      },
      "outputs": [],
      "source": [
        "from google.colab import drive\n",
        "drive.mount('/content/drive')\n",
        "\n",
        "import cv2\n",
        "cap = cv2.VideoCapture('/content/drive/My Drive/chair_u.mp4')"
      ]
    },
    {
      "cell_type": "code",
      "execution_count": null,
      "metadata": {
        "id": "cb0eb7cb"
      },
      "outputs": [],
      "source": [
        "# Initialize video capture object.\n",
        "# file_name = '/content/Chair.mp4'\n",
        "# cap = cv2.VideoCapture(file_name)\n",
        "\n",
        "# Meta.\n",
        "fps = int(cap.get(cv2.CAP_PROP_FPS))\n",
        "width = int(cap.get(cv2.CAP_PROP_FRAME_WIDTH))\n",
        "height = int(cap.get(cv2.CAP_PROP_FRAME_HEIGHT))\n",
        "frame_size = (width, height)\n",
        "fourcc = cv2.VideoWriter_fourcc(*'mp4v')\n",
        "\n",
        "# Initialize video writer.\n",
        "video_output = cv2.VideoWriter('output.mp4', fourcc, fps, frame_size)"
      ]
    },
    {
      "cell_type": "code",
      "execution_count": null,
      "metadata": {
        "id": "P88k1wcVF4ZV"
      },
      "outputs": [],
      "source": [
        "import math\n",
        "\n",
        "def calculate_angle(x1, y1, x2, y2, x3, y3):\n",
        "\n",
        "  # Calculate the vector lengths for each arm segment\n",
        "  upper_arm_length = math.sqrt((x2 - x1)**2 + (y2 - y1)**2)\n",
        "  lower_arm_length = math.sqrt((x3 - x2)**2 + (y3 - y2)**2)\n",
        "\n",
        "  # Ensure we don't have division by zero (shoulders and elbow can't coincide)\n",
        "  if upper_arm_length == 0:\n",
        "    return 0\n",
        "\n",
        "  # Calculate the dot product of the normalized arm segment vectors\n",
        "  dot_product = ((x2 - x1) / upper_arm_length) * ((x3 - x2) / lower_arm_length) + \\\n",
        "                ((y2 - y1) / upper_arm_length) * ((y3 - y2) / lower_arm_length)\n",
        "\n",
        "  # Apply the law of cosines to find the angle\n",
        "  angle_rad = math.acos(dot_product)\n",
        "\n",
        "  # Convert from radians to degrees\n",
        "  angle_deg = int(180 / math.pi) * angle_rad\n",
        "\n",
        "  return angle_deg\n"
      ]
    },
    {
      "cell_type": "code",
      "execution_count": null,
      "metadata": {
        "colab": {
          "base_uri": "https://localhost:8080/"
        },
        "id": "dcfa56b1",
        "outputId": "219172ae-f58a-4bcd-af02-e0ac6a7a6173"
      },
      "outputs": [],
      "source": [
        "print(cap.isOpened())\n",
        "while cap.isOpened():\n",
        "    # Capture frames.\n",
        "    success, image = cap.read()\n",
        "    if not success:\n",
        "        print(\"Null.Frames\")\n",
        "        break\n",
        "    # Get fps.\n",
        "    fps = cap.get(cv2.CAP_PROP_FPS)\n",
        "    # Get height and width.\n",
        "    h, w = image.shape[:2]\n",
        "\n",
        "    # Convert the BGR image to RGB.\n",
        "    image = cv2.cvtColor(image, cv2.COLOR_BGR2RGB)\n",
        "\n",
        "    # Process the image.\n",
        "    predictions = yolo_nas.predict(image, conf=0.5)\n",
        "\n",
        "    # Convert the image back to BGR.\n",
        "    image = cv2.cvtColor(image, cv2.COLOR_RGB2BGR)\n",
        "\n",
        "    # Acquire the landmark coordinates.\n",
        "    # Once aligned properly, left or right should not be a concern.\n",
        "    # Left shoulder.\n",
        "    poses = predictions.prediction.poses  # Assuming 'prediction' has a nested 'prediction' attribute\n",
        "\n",
        "  # Loop through each pose\n",
        "    for pose in poses:\n",
        "    # Access individual keypoints within the pose\n",
        "      for i, keypoint in enumerate(pose):\n",
        "\n",
        "        if i == 4:\n",
        "          r_ear_x = int(keypoint[0])  # Assuming x is the first element\n",
        "          r_ear_y = int(keypoint[1])  # Assuming y is the second element\n",
        "\n",
        "        elif i == 6:\n",
        "          r_shldr_x = int(keypoint[0])  # Assuming x is the first element\n",
        "          r_shldr_y = int(keypoint[1])  # Assuming y is the second element\n",
        "\n",
        "        elif i == 8:\n",
        "          r_elbow_x = int(keypoint[0])  # Assuming x is the first element\n",
        "          r_elbow_y = int(keypoint[1])  # Assuming y is the second element\n",
        "\n",
        "        elif i == 10:\n",
        "          r_wrist_x = int(keypoint[0])  # Assuming x is the first element\n",
        "          r_wrist_y = int(keypoint[1])  # Assuming y is the second element\n",
        "\n",
        "        elif i == 12:\n",
        "          r_hip_x = int(keypoint[0])  # Assuming x is the first element\n",
        "          r_hip_y = int(keypoint[1])  # Assuming y is the second element\n",
        "\n",
        "        elif i == 14:\n",
        "          r_knee_x = int(keypoint[0])  # Assuming x is the first element\n",
        "          r_knee_y = int(keypoint[1])  # Assuming y is the second element\n",
        "\n",
        "        elif i == 16:\n",
        "          r_ancle_x = int(keypoint[0])  # Assuming x is the first element\n",
        "          r_ancle_y = int(keypoint[1])  # Assuming y is the second element\n",
        "\n",
        "\n",
        "    # Calculate angles.\n",
        "    neck_inclination = findAngle(r_shldr_x, r_shldr_y, r_ear_x, r_ear_y)\n",
        "    torso_inclination = findAngle(r_hip_x, r_hip_y, r_shldr_x, r_shldr_y)\n",
        "\n",
        "    knee_inclination = calculate_angle(r_hip_x, r_hip_y, r_knee_x, r_knee_y, r_ancle_x, r_ancle_y)\n",
        "    arm_inclination = calculate_angle(r_shldr_x, r_shldr_y, r_elbow_x, r_elbow_y, r_wrist_x, r_wrist_y)\n",
        "\n",
        "    angle_text_string = 'Neck : ' + str(int(neck_inclination)) + ' Torso : ' + str(int(torso_inclination))\n",
        "\n",
        "    # Draw landmarks.\n",
        "    cv2.circle(image, (r_shldr_x, r_shldr_y), 7, yellow, -1)\n",
        "    cv2.circle(image, (r_ear_x, r_ear_y), 7, yellow, -1)\n",
        "\n",
        "    cv2.circle(image, (r_shldr_x, r_shldr_y - 100), 7, yellow, -1)\n",
        "    cv2.circle(image, (r_shldr_x, r_shldr_y), 7, pink, -1)\n",
        "\n",
        "    cv2.circle(image, (r_hip_x, r_hip_y), 7, yellow, -1)\n",
        "    cv2.circle(image, (r_hip_x, r_hip_y - 100), 7, yellow, -1)\n",
        "\n",
        "    cv2.circle(image, (r_elbow_x, r_elbow_y), 7, yellow, -1)\n",
        "    cv2.circle(image, (r_knee_x, r_knee_y), 7, yellow, -1)\n",
        "\n",
        "\n",
        "    cv2.circle(image, (r_ancle_x, r_ancle_y), 7, yellow, -1)\n",
        "    cv2.circle(image, (r_wrist_x, r_wrist_y), 7, yellow, -1)\n",
        "\n",
        "\n",
        "    if neck_inclination < 40 and torso_inclination < 10 :\n",
        "\n",
        "        cv2.putText(image, angle_text_string, (10, 30), font, 0.9, light_green, 2)\n",
        "\n",
        "\n",
        "        # Join landmarks.\n",
        "        cv2.line(image, (r_shldr_x, r_shldr_y), (r_ear_x, r_ear_y), green, 4)\n",
        "        cv2.line(image, (r_shldr_x, r_shldr_y), (r_shldr_x, r_shldr_y - 100), green, 4)\n",
        "\n",
        "        cv2.line(image, (r_hip_x, r_hip_y), (r_shldr_x, r_shldr_y), green, 4)\n",
        "        cv2.line(image, (r_hip_x, r_hip_y), (r_hip_x, r_hip_y - 100), green, 4)\n",
        "\n",
        "    elif 90 < knee_inclination < 100:\n",
        "\n",
        "        cv2.putText(image, str(knee_inclination), (r_knee_x + 10 , r_knee_y + 10), font, 0.9, light_green, 2)\n",
        "\n",
        "        cv2.line(image, (r_knee_x, r_knee_y), (r_ancle_x, r_ancle_y), green, 4)\n",
        "        cv2.line(image, (r_hip_x, r_hip_y), (r_knee_x, r_knee_y), green, 4)\n",
        "\n",
        "    elif 90 < arm_inclination < 100:\n",
        "\n",
        "        cv2.putText(image, str(arm_inclination), (r_knee_x + 10 , r_knee_y + 10), font, 0.9, light_green, 2)\n",
        "\n",
        "        cv2.line(image,  (r_elbow_x, r_elbow_y), (r_wrist_x, r_wrist_y), green, 4)\n",
        "        cv2.line(image,  (r_shldr_x, r_shldr_y), (r_elbow_x, r_elbow_y), green, 4)\n",
        "\n",
        "    else:\n",
        "\n",
        "        cv2.putText(image, angle_text_string, (10, 30), font, 0.9, red, 2)\n",
        "        cv2.putText(image, str(int(knee_inclination)), (r_knee_x + 10 , r_knee_y + 10), font, 0.9, red, 2)\n",
        "        cv2.putText(image, str(int(arm_inclination)), (r_elbow_x + 10 , r_elbow_y + 10), font, 0.9, red, 2)\n",
        "\n",
        "\n",
        "        # Join landmarks.\n",
        "        cv2.line(image, (r_shldr_x, r_shldr_y), (r_ear_x, r_ear_y), red, 4)\n",
        "        cv2.line(image, (r_shldr_x, r_shldr_y), (r_shldr_x, r_shldr_y - 100), red, 4)\n",
        "\n",
        "        cv2.line(image, (r_hip_x, r_hip_y), (r_shldr_x, r_shldr_y), red, 4)\n",
        "        cv2.line(image, (r_hip_x, r_hip_y), (r_hip_x, r_hip_y - 100), red, 4)\n",
        "\n",
        "        cv2.line(image, (r_knee_x, r_knee_y), (r_ancle_x, r_ancle_y), red, 4)\n",
        "        cv2.line(image, (r_hip_x, r_hip_y), (r_knee_x, r_knee_y), red, 4)\n",
        "\n",
        "        cv2.line(image,  (r_elbow_x, r_elbow_y), (r_wrist_x, r_wrist_y), red, 4)\n",
        "        cv2.line(image,  (r_shldr_x, r_shldr_y), (r_elbow_x, r_elbow_y), red, 4)\n",
        "\n",
        "\n",
        "    video_output.write(image)\n",
        "\n",
        "cap.release()\n",
        "video_output.release()"
      ]
    }
  ],
  "metadata": {
    "accelerator": "TPU",
    "colab": {
      "gpuType": "V28",
      "provenance": []
    },
    "kernelspec": {
      "display_name": "Python 3",
      "name": "python3"
    },
    "language_info": {
      "name": "python"
    }
  },
  "nbformat": 4,
  "nbformat_minor": 0
}
